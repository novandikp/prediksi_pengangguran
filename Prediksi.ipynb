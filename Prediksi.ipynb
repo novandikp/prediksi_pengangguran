{
  "nbformat": 4,
  "nbformat_minor": 0,
  "metadata": {
    "colab": {
      "provenance": []
    },
    "kernelspec": {
      "name": "python3",
      "display_name": "Python 3"
    },
    "language_info": {
      "name": "python"
    }
  },
  "cells": [
    {
      "cell_type": "markdown",
      "source": [
        "# Import Library"
      ],
      "metadata": {
        "id": "1zFEUAl-AK-z"
      }
    },
    {
      "cell_type": "code",
      "source": [
        "import pandas as pd                    # Untuk manipulasi data\n",
        "from sklearn.model_selection import train_test_split, GridSearchCV   # Untuk pembagian dataset dan pencarian parameter terbaik\n",
        "from sklearn.svm import SVR             # Untuk model Support Vector Regressor (SVM) dalam konteks regresi\n",
        "from sklearn.metrics import mean_squared_error    # Untuk mengukur kinerja model regresi\n",
        "from sklearn.preprocessing import MinMaxScaler   # Untuk penskalaan fitur"
      ],
      "metadata": {
        "id": "7UpfUudV9wJS"
      },
      "execution_count": 39,
      "outputs": []
    },
    {
      "cell_type": "markdown",
      "source": [
        "# Read Dataset"
      ],
      "metadata": {
        "id": "7pldiVpuAOgI"
      }
    },
    {
      "cell_type": "code",
      "source": [
        "# Load the dataset\n",
        "df = pd.read_csv('/content/DatasetPengangguran.csv', sep=\";\")\n",
        "\n",
        "# Drop 'Provinsi' column\n",
        "dataset = df.drop(columns=['Provinsi'])\n",
        "# Define features (X) and target variable (y)\n",
        "X = dataset.drop(columns=['Pengangguran'])\n",
        "y = dataset['Pengangguran']\n",
        "\n",
        "# Split the dataset into training and testing sets\n",
        "X_train, X_test, y_train, y_test = train_test_split(X, y, test_size=0.2, random_state=1)"
      ],
      "metadata": {
        "id": "pxS5TwgyAAeC"
      },
      "execution_count": 46,
      "outputs": []
    },
    {
      "cell_type": "markdown",
      "source": [
        "# Data Scaling"
      ],
      "metadata": {
        "id": "wirlvl7RARVf"
      }
    },
    {
      "cell_type": "code",
      "source": [
        "# Scale the features using Min-Max scaling\n",
        "scaler = MinMaxScaler()\n",
        "X_train_scaled = scaler.fit_transform(X_train)\n",
        "X_test_scaled = scaler.transform(X_test)"
      ],
      "metadata": {
        "id": "SnLFuhnoADvI"
      },
      "execution_count": 47,
      "outputs": []
    },
    {
      "cell_type": "markdown",
      "source": [
        "# Data Regression"
      ],
      "metadata": {
        "id": "E_A5QSGNAYET"
      }
    },
    {
      "cell_type": "code",
      "source": [
        "# Initialize SVR regressor\n",
        "svr_regressor = SVR()\n",
        "\n",
        "# Define hyperparameter grid for Grid Search\n",
        "param_grid = {\n",
        "    'C': [0.1, 1, 10],\n",
        "    'kernel': ['linear', 'rbf', 'poly'],\n",
        "    'gamma': ['scale', 'auto'],\n",
        "    'epsilon': [0.1, 0.01, 0.001]\n",
        "}\n",
        "\n",
        "# Create GridSearchCV object\n",
        "grid_search = GridSearchCV(svr_regressor, param_grid, cv=5, scoring='neg_mean_squared_error', n_jobs=-1)\n",
        "\n",
        "# Fit the model with optimized hyperparameters\n",
        "grid_search.fit(X_train_scaled, y_train)\n",
        "\n",
        "# Get the best parameters\n",
        "best_params = grid_search.best_params_\n",
        "print(f'Best Hyperparameters: {best_params}')\n",
        "\n",
        "# Make predictions with the best model\n",
        "best_svr_regressor = grid_search.best_estimator_\n",
        "y_pred = best_svr_regressor.predict(X_test_scaled)\n",
        "\n",
        "# Evaluate the model\n",
        "mse = mean_squared_error(y_test, y_pred)\n",
        "print(f'Mean Squared Error: {mse}')"
      ],
      "metadata": {
        "id": "3RT7bPYGAFZ8",
        "colab": {
          "base_uri": "https://localhost:8080/"
        },
        "outputId": "b7c46a11-1386-47eb-8ab1-11304e8a45ac"
      },
      "execution_count": 48,
      "outputs": [
        {
          "output_type": "stream",
          "name": "stdout",
          "text": [
            "Best Hyperparameters: {'C': 10, 'epsilon': 0.01, 'gamma': 'scale', 'kernel': 'rbf'}\n",
            "Mean Squared Error: 1.2288044141402101\n"
          ]
        }
      ]
    }
  ]
}